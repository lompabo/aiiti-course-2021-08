{
 "cells": [
  {
   "cell_type": "code",
   "execution_count": 1,
   "metadata": {
    "slideshow": {
     "slide_type": "skip"
    }
   },
   "outputs": [],
   "source": [
    "# ============================================================\n",
    "# Notebook setup: run this before everything\n",
    "# ============================================================\n",
    "\n",
    "%load_ext autoreload\n",
    "%autoreload 2\n",
    "\n",
    "# Control figure size\n",
    "interactive_figures = False\n",
    "if interactive_figures:\n",
    "    # Normal behavior\n",
    "    %matplotlib widget\n",
    "    figsize=(9, 3)\n",
    "else:\n",
    "    # PDF export behavior\n",
    "    figsize=(14, 5)\n",
    "\n",
    "#from matplotlib import pyplot as plt\n",
    "from util import util\n",
    "#from scipy.integrate import odeint\n",
    "import numpy as np\n",
    "import pandas as pd\n",
    "#from skopt.space import Space\n",
    "#from eml.net.reader import keras_reader"
   ]
  },
  {
   "cell_type": "markdown",
   "metadata": {
    "slideshow": {
     "slide_type": "slide"
    }
   },
   "source": [
    "# Our Case Study"
   ]
  },
  {
   "cell_type": "markdown",
   "metadata": {
    "slideshow": {
     "slide_type": "subslide"
    }
   },
   "source": [
    "## Our Case Study\n",
    "\n",
    "**As our next case study we will consider an _epidemic control_ problem**\n",
    "\n",
    "<center><img src=\"assets/network.jpeg\" width=750px /></center>\n",
    "\n",
    "* Let's assume we are at early stages of an epidemic\n",
    "* ...And we want to do our best to control while we wait for a cure/vaccine"
   ]
  },
  {
   "cell_type": "markdown",
   "metadata": {
    "slideshow": {
     "slide_type": "subslide"
    }
   },
   "source": [
    "## Epidemic Control as Optimization\n",
    "\n",
    "**Technically, this is an optimization problem**\n",
    "\n",
    "* We need to decide _which actions to take_\n",
    "* ...Subject to a variety of _constraints_ (e.g. socio economical impact)\n",
    "* ...So that the total number of infected is _minimized_\n",
    "\n",
    "> **But how do we evaluate the impact of our actions?**"
   ]
  },
  {
   "cell_type": "markdown",
   "metadata": {
    "slideshow": {
     "slide_type": "fragment"
    }
   },
   "source": [
    "**Epidemical dynamics can be simulated**\n",
    "\n",
    "* We can use differential equations\n",
    "* We can use multi-agent models\n",
    "* We can use networks to account for connections"
   ]
  },
  {
   "cell_type": "markdown",
   "metadata": {
    "slideshow": {
     "slide_type": "subslide"
    }
   },
   "source": [
    "## Epidemic Control as Optimization\n",
    "\n",
    "**Technically, this is an optimization problem**\n",
    "\n",
    "* We need to decide _which actions to take_\n",
    "* ...Subject to a variety of constraints (e.g. socio economical impact)\n",
    "* ...So that the number of infected is _minimized_\n",
    "\n",
    "> **But how do we evaluate the impact of our actions?**"
   ]
  },
  {
   "cell_type": "markdown",
   "metadata": {
    "slideshow": {
     "slide_type": "-"
    }
   },
   "source": [
    "**However, using such simulator in optimization is _difficult_**\n",
    "\n",
    "* They are defienned via rules and/or equations\n",
    "* ...But using those in a declarative optimization approach is prohibitive\n",
    "* Black-box optimization is an option, but cannot deal easily with constraints"
   ]
  },
  {
   "cell_type": "markdown",
   "metadata": {
    "slideshow": {
     "slide_type": "subslide"
    }
   },
   "source": [
    "## Empirical Model Learning\n",
    "\n",
    "**We will tackle this problem via [Empirial Model Learning](https://emlopt.github.io/)**\n",
    "\n",
    "The key idea in EML is to make ML models _part of_ optimization models\n",
    "\n",
    "* We have learned how to inject a constraint model in ML...\n",
    "* ...And now we will see how to inject ML into a constraint model\n",
    "\n",
    "**EML was designed to enable optimization over complex systems, e.g.**\n",
    "\n",
    "* Traffic optimization\n",
    "* Thermal aware (computational) job scheduling\n",
    "* Design of incentive schemes\n",
    "* ...\n",
    "\n",
    "**At its simplest, the approach requires to**\n",
    "\n",
    "* Learn a ML model in any usual way\n",
    "* Find a way to encode/embed the model in a given optimization technology"
   ]
  },
  {
   "cell_type": "markdown",
   "metadata": {
    "slideshow": {
     "slide_type": "subslide"
    }
   },
   "source": [
    "## Compartmental Models for Epidemics\n",
    "\n",
    "**For our epidemics we will rely on a SIR model**\n",
    "\n",
    "SIR models are a type of _compartmental model_\n",
    "\n",
    "* The population is divided into three groups (compartments)\n",
    "* ...I.e. Susceptibles, Infected, Recovered\n",
    "\n",
    "**The classical SIR model is _dynamic system_**\n",
    "\n",
    "* The size of the three groups evolves over time\n",
    "* According to an Ordinary Differemtial Equation (ODE)\n",
    "\n",
    "**An ODE is a differential equation in the form:**\n",
    "$$\n",
    "\\dot{y} = f(y, t)\n",
    "$$\n",
    "\n",
    "* $y$ is a (vector) variable representing the system state\n",
    "* $f(y, t)$ defines the _gradient_ of the state"
   ]
  },
  {
   "cell_type": "markdown",
   "metadata": {
    "slideshow": {
     "slide_type": "subslide"
    }
   },
   "source": [
    "## Compartmental Models for Epidemics\n",
    "\n",
    "**In the case of the SIR model, we have:**\n",
    "\n",
    "$$\\begin{align}\n",
    "\\dot{S} & = -\\beta \\frac{1}{N}SI \\\\\n",
    "\\dot{I} & = \\beta \\frac{1}{N}SI - \\gamma I \\\\\n",
    "\\dot{R} & = \\gamma I\n",
    "\\end{align}$$\n",
    "\n",
    "Where:\n",
    "\n",
    "* $S$, $I$, $R$ refer to the size of each component\n",
    "* $N$ is the population size (i.e. $N = S + I + R$\n",
    "* ...$\\beta$ is the _infection rate_ and $\\gamma$ the _recovery rate_\n",
    "* ...And the ratio $R_0 = \\beta / \\gamma$ is called _basic reproductive number_"
   ]
  },
  {
   "cell_type": "markdown",
   "metadata": {
    "slideshow": {
     "slide_type": "subslide"
    }
   },
   "source": [
    "## Compartmental Models for Epidemics\n",
    "\n",
    "**In the case of the SIR model, we have:**\n",
    "\n",
    "$$\\begin{align}\n",
    "\\dot{S} & = -\\beta \\frac{1}{N}SI \\\\\n",
    "\\dot{I} & = \\beta \\frac{1}{N}SI - \\gamma I \\\\\n",
    "\\dot{R} & = \\gamma I\n",
    "\\end{align}$$\n",
    "\n",
    "We have that:\n",
    "\n",
    "* $S$ decreases proportionally to the product $S I$\n",
    "* $I$ grows by the same rate, and decreases proportionally to its size $I$\n",
    "* $R$ grows proportionally to $I$\n",
    "\n",
    "Individiduals \"flow\" from $S$ to $I$, and then to $R$"
   ]
  },
  {
   "cell_type": "markdown",
   "metadata": {
    "slideshow": {
     "slide_type": "subslide"
    }
   },
   "source": [
    "## Solution Methods for ODEs\n",
    "\n",
    "**Solving an ODE can be thought of as _running a simulation_**\n",
    "\n",
    "The simples solution approach is called _Euler's method_\n",
    "\n",
    "* $\\text{$y(0) = $ initial system state, $t(0) = 0$}$\n",
    "* $\\text{for $i = 1..n_{steps}$}$\n",
    "  - $t(i) = t(i-1) + h$\n",
    "  - $y(i) = y(i-1) + h f\\left(y(i-1), t(i-1)\\right)$\n",
    "  \n",
    "**Intuitively:**\n",
    "\n",
    "* We start from an initial state $y(0)$\n",
    "* We make linear updates to the state, with step $h$ \n",
    "* ...Using $f(y, t)$ to compute the gradient\n",
    "* We keep track of passing time in $t$"
   ]
  },
  {
   "cell_type": "markdown",
   "metadata": {
    "slideshow": {
     "slide_type": "subslide"
    }
   },
   "source": [
    "## Solving Our SIR\n",
    "\n",
    "**First, we need to define a function to compute our gradient**\n",
    "\n",
    "I.e. we simply need to compute the SIR formulas\n",
    "\n",
    "```python\n",
    "def SIR(y, beta, gamma):\n",
    "    # Unpack the state\n",
    "    S, I, R = y\n",
    "    N = sum([S, I, R])\n",
    "    # Compute partial derivatives\n",
    "    dS = -beta * S * I / N\n",
    "    dI = beta * S * I / N - gamma * I\n",
    "    dR = gamma * I\n",
    "    # Return gradient\n",
    "    return np.array([dS, dI, dR])\n",
    "```\n",
    "\n",
    "* Rather than passing $N$ as a parameter\n",
    "* ...Here we compute it on the fly"
   ]
  },
  {
   "cell_type": "markdown",
   "metadata": {
    "slideshow": {
     "slide_type": "subslide"
    }
   },
   "source": [
    "## Solving Our SIR\n",
    "\n",
    "**Then we just need to call an ODE integration function**\n",
    "\n",
    "We will use `odeint` from scipy\n",
    "\n",
    "```python\n",
    "odeint(f, y0, t, ...)\n",
    "```\n",
    "\n",
    "* `y0` is the initial state\n",
    "* `t` is vector of time points\n",
    "  - The function allows for _variable_ time steps\n",
    "  - ...Defined via the differences `t[1:] - t[:-1]`\n",
    "* `f` is the gradient computation function\n",
    "  - ...And it should implement the interface `f(y, t)`\n",
    "  - Alternative interfaces are possible (but we won't cover them)"
   ]
  },
  {
   "cell_type": "markdown",
   "metadata": {
    "slideshow": {
     "slide_type": "subslide"
    }
   },
   "source": [
    "## Solving Our SIR\n",
    "\n",
    "**Our simulation code is in `simulate_SIR`**\n",
    "\n",
    "```python\n",
    "def simulate_SIR(S0, I0, R0, beta, gamma, tmax, steps_per_day=1):\n",
    "    # Build initial state\n",
    "    y0 = np.array([S0, I0, R0])\n",
    "    # Wrapper\n",
    "    nabla = lambda y, t: SIR(y, beta, gamma)\n",
    "    # Solve\n",
    "    t = np.linspace(0, tmax, steps_per_day * tmax)\n",
    "    Y = odeint(nabla, y0, t)\n",
    "    # Wrap as dataframe and return\n",
    "    ...\n",
    "```\n",
    "\n",
    "* We use a `lambda` function to obtain the expected interface\n",
    "* Each time unit corresponds to one day\n",
    "* ...And we control the number of steps per day with `steps_per_day`"
   ]
  },
  {
   "cell_type": "markdown",
   "metadata": {
    "slideshow": {
     "slide_type": "subslide"
    }
   },
   "source": [
    "## Solving Our SIR\n",
    "\n",
    "**Next, we define test values for all the parameters**"
   ]
  },
  {
   "cell_type": "code",
   "execution_count": 2,
   "metadata": {},
   "outputs": [],
   "source": [
    "S0, I0, R0 = 0.99, 0.01, 0.0\n",
    "beta, gamma = 0.1, 1/14\n",
    "tmax = 365"
   ]
  },
  {
   "cell_type": "markdown",
   "metadata": {},
   "source": [
    "* We consider a normalized population ($N = 1$)\n",
    "* Initially, $1\\%$ of the population is infected\n",
    "* $\\gamma$ is the inverse of the average recovery time (14 days)\n",
    "* We simulate for one year\n",
    "\n",
    "**The value of $R_0$ determines whether we have a proper epidemic behavior**\n",
    "\n",
    "* If $R_0 > 1$ infections grow before falling, otherwise they only decrease\n",
    "* We have $R_0 = \\beta / \\gamma = 1.4$, i.e. a true epidemic behavior"
   ]
  },
  {
   "cell_type": "markdown",
   "metadata": {
    "slideshow": {
     "slide_type": "subslide"
    }
   },
   "source": [
    "## Solving Our SIR\n",
    "\n",
    "**Let's plot the dynamics for one year**"
   ]
  },
  {
   "cell_type": "code",
   "execution_count": 3,
   "metadata": {},
   "outputs": [
    {
     "data": {
      "image/png": "[encoded data removed]",
      "text/plain": [
       "<Figure size 1008x360 with 1 Axes>"
      ]
     },
     "metadata": {
      "needs_background": "light"
     },
     "output_type": "display_data"
    }
   ],
   "source": [
    "data = util.simulate_SIR(S0, I0, R0, beta, gamma, tmax=tmax, steps_per_day=1)\n",
    "util.plot_df_cols(data, figsize=figsize)"
   ]
  },
  {
   "cell_type": "markdown",
   "metadata": {},
   "source": [
    "* The $S$ compartment monotonically decreases\n",
    "* The $R$ compartment monotonically increases"
   ]
  },
  {
   "cell_type": "markdown",
   "metadata": {
    "slideshow": {
     "slide_type": "subslide"
    }
   },
   "source": [
    "## Solving Our SIR\n",
    "\n",
    "**Let's focus on the infected curve**\n",
    "\n",
    "The number of infected grows, before decreasing again"
   ]
  },
  {
   "cell_type": "code",
   "execution_count": 4,
   "metadata": {},
   "outputs": [
    {
     "data": {
      "image/png": "[encoded data removed]",
      "text/plain": [
       "<Figure size 1008x360 with 1 Axes>"
      ]
     },
     "metadata": {
      "needs_background": "light"
     },
     "output_type": "display_data"
    }
   ],
   "source": [
    "util.plot_df_cols(data[['I']], figsize=figsize)"
   ]
  },
  {
   "cell_type": "markdown",
   "metadata": {},
   "source": [
    "* In a true epidemics, the behavior will be more complicated\n",
    "* ...In particular, we will typically have multiple waves"
   ]
  },
  {
   "cell_type": "markdown",
   "metadata": {
    "slideshow": {
     "slide_type": "subslide"
    }
   },
   "source": [
    "## Solving Our SIR\n",
    "\n",
    "**Let's focus on the infected curve**\n",
    "\n",
    "The number of infected grows, before decreasing again"
   ]
  },
  {
   "cell_type": "code",
   "execution_count": 5,
   "metadata": {},
   "outputs": [
    {
     "data": {
      "image/png": "[encoded data removed]",
      "text/plain": [
       "<Figure size 1008x360 with 1 Axes>"
      ]
     },
     "metadata": {
      "needs_background": "light"
     },
     "output_type": "display_data"
    }
   ],
   "source": [
    "util.plot_df_cols(data[['I']], figsize=figsize)"
   ]
  },
  {
   "cell_type": "markdown",
   "metadata": {},
   "source": [
    "* However, SIR models are still a good _local_ descriptor\n",
    "* ...Which is why the $R_t$ values is routinely monitored"
   ]
  }
 ],
 "metadata": {
  "celltoolbar": "Slideshow",
  "kernelspec": {
   "display_name": "Python 3",
   "language": "python",
   "name": "python3"
  },
  "language_info": {
   "codemirror_mode": {
    "name": "ipython",
    "version": 3
   },
   "file_extension": ".py",
   "mimetype": "text/x-python",
   "name": "python",
   "nbconvert_exporter": "python",
   "pygments_lexer": "ipython3",
   "version": "3.6.9"
  },
  "rise": {
   "center": false,
   "transition": "fade"
  }
 },
 "nbformat": 4,
 "nbformat_minor": 4
}
